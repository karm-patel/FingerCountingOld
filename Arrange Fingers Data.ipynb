{
 "cells": [
  {
   "cell_type": "markdown",
   "metadata": {
    "id": "hOGLYDsEkokw"
   },
   "source": [
    "### To load Images from Directory, give labeling & save it to .npz from"
   ]
  },
  {
   "cell_type": "code",
   "execution_count": 1,
   "metadata": {
    "colab": {
     "base_uri": "https://localhost:8080/"
    },
    "executionInfo": {
     "elapsed": 4485,
     "status": "ok",
     "timestamp": 1618209677257,
     "user": {
      "displayName": "Karm Patel",
      "photoUrl": "https://lh3.googleusercontent.com/a-/AOh14Gg26ebGtUoFJ_dBruzrbrB5cQq-BSyNzphRjGp-sw=s64",
      "userId": "13800637112392239189"
     },
     "user_tz": -330
    },
    "id": "atjL-z7Rz5kO",
    "outputId": "5902adfa-01de-4a16-b6e4-85a8fce3a290"
   },
   "outputs": [
    {
     "name": "stderr",
     "output_type": "stream",
     "text": [
      "/usr/local/lib/python3.7/dist-packages/ipykernel_launcher.py:16: UserWarning: Config option `use_jedi` not recognized by `IPCompleter`.\n",
      "  app.launch_new_instance()\n"
     ]
    }
   ],
   "source": [
    "import tensorflow.keras as keras\n",
    "import tensorflow as tf\n",
    "import os\n",
    "from PIL import Image\n",
    "import numpy as np\n",
    "from numpy import asarray\n",
    "from numpy import expand_dims\n",
    "from numpy import load\n",
    "from numpy import savez_compressed\n",
    "\n",
    "# example of converting an image with the Keras API\n",
    "from keras.preprocessing.image import load_img\n",
    "from keras.preprocessing.image import img_to_array\n",
    "from keras.preprocessing.image import array_to_img\n",
    "\n",
    "%config Completer.use_jedi = False\n",
    "dataset_dir = '/content/fingers' \n"
   ]
  },
  {
   "cell_type": "code",
   "execution_count": null,
   "metadata": {
    "id": "JwZU9ZPzz-WH"
   },
   "outputs": [],
   "source": [
    "train_path = os.path.join(dataset_dir,'train')\n",
    "\n",
    "#classes of emotions\n",
    "images = os.listdir(train_path)\n",
    "val = {'L':0,'R':1}\n",
    "X_train = []\n",
    "y_train = []\n",
    "for ind,img in enumerate(images):\n",
    "    img_path = os.path.join(train_path,img)\n",
    "    label = img[-6:-4]\n",
    "    #print(label,end=\" \")\n",
    "    label = val[label[1]]*6 + int(label[0])\n",
    "    #print(label)/content/drive/MyDrive/ResNet Project\n",
    "    \n",
    "    y_train.append(label)\n",
    "    image = img_to_array(load_img(img_path))\n",
    "    X_train.append(image)\n",
    "\n"
   ]
  },
  {
   "cell_type": "code",
   "execution_count": null,
   "metadata": {
    "id": "wbO0fWQA0A1p"
   },
   "outputs": [],
   "source": [
    "test_path = os.path.join(dataset_dir,'test')\n",
    "\n",
    "#classes of emotions\n",
    "images = os.listdir(test_path)\n",
    "val = {'L':0,'R':1}\n",
    "X_test = []\n",
    "y_test = []\n",
    "for ind,img in enumerate(images):\n",
    "    img_path = os.path.join(test_path,img)\n",
    "    label = img[-6:-4]\n",
    "    #print(label,end=\" \")\n",
    "    label = val[label[1]]*6 + int(label[0])\n",
    "    #print(label)\n",
    "    \n",
    "    y_test.append(label)\n",
    "    image = img_to_array(load_img(img_path))\n",
    "    X_test.append(image)\n"
   ]
  },
  {
   "cell_type": "code",
   "execution_count": null,
   "metadata": {
    "id": "otSrFfWx0Irf"
   },
   "outputs": [],
   "source": [
    "y_test = expand_dims(asarray(y_test),-1)\n",
    "y_train = expand_dims(asarray(y_train),-1)\n",
    "X_TRAIN, X_TEST, Y_TRAIN, Y_TEST = asarray(X_train),asarray(X_test), y_train, y_test\n",
    "savez_compressed('/content/drive/MyDrive/ResNet Project/fingers_train.npz',X_TRAIN,X_TEST,Y_TRAIN,Y_TEST)"
   ]
  }
 ],
 "metadata": {
  "colab": {
   "authorship_tag": "ABX9TyOztDmjIOZvPWjB/qkltTPm",
   "collapsed_sections": [],
   "name": "Arrange Fingers Data.ipynb",
   "provenance": []
  },
  "kernelspec": {
   "display_name": "Python 3",
   "language": "python",
   "name": "python3"
  },
  "language_info": {
   "codemirror_mode": {
    "name": "ipython",
    "version": 3
   },
   "file_extension": ".py",
   "mimetype": "text/x-python",
   "name": "python",
   "nbconvert_exporter": "python",
   "pygments_lexer": "ipython3",
   "version": "3.6.13"
  }
 },
 "nbformat": 4,
 "nbformat_minor": 1
}
